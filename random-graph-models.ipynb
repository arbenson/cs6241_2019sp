{
 "cells": [
  {
   "cell_type": "code",
   "execution_count": null,
   "metadata": {},
   "outputs": [],
   "source": [
    "using Plots\n",
    "using LinearAlgebra\n",
    "using SparseArrays\n",
    "using Random\n",
    "Random.seed!(1234);  # determinism\n",
    "plot([1], [1]);      # pre-compile"
   ]
  },
  {
   "cell_type": "code",
   "execution_count": null,
   "metadata": {},
   "outputs": [],
   "source": [
    "# Read data\n",
    "I, J = Vector{Int64}(), Vector{Int64}()\n",
    "open(\"Florida-bay.txt\") do f\n",
    "    for line in eachline(f)\n",
    "        i, j = [parse(Int64, v) for v in split(line)]\n",
    "        if i != j\n",
    "            push!(I, i + 1); push!(J, j + 1);  # 1-index\n",
    "        end\n",
    "    end\n",
    "end\n",
    "n = max(maximum(I), maximum(J))  # number of nodes\n",
    "m = length(I);                   # number of edges"
   ]
  },
  {
   "cell_type": "code",
   "execution_count": null,
   "metadata": {},
   "outputs": [],
   "source": [
    "function number_of_triangles()\n",
    "    A = sparse(I, J, 1, n, n)\n",
    "    A = min.(max.(A, A'), 1)\n",
    "    return sum(diag(A^3))\n",
    "end\n",
    "\n",
    "num_triangles = [number_of_triangles()]\n",
    "trials = [0]\n",
    "\n",
    "for trial = 1:(10 * m)\n",
    "    s = rand(1:m, 2)\n",
    "    u, w = I[s]\n",
    "    v, x = J[s]\n",
    "    if length(unique([u, v, w, x])) == 4\n",
    "        J[s[1]] = x; J[s[2]] = w\n",
    "    end\n",
    "\n",
    "    if trial % 500 == 0\n",
    "        push!(trials, trial)\n",
    "        push!(num_triangles, number_of_triangles())\n",
    "    end\n",
    "end\n",
    "\n",
    "plot(trials, num_triangles ./ num_triangles[1], label=\"\", marker=:circle,\n",
    "     xlabel=\"Number of swaps\", ylabel=\"Number of triangles (relative to 0 swaps)\",\n",
    "     title=\"Florida Bay food web\")"
   ]
  },
  {
   "cell_type": "code",
   "execution_count": null,
   "metadata": {},
   "outputs": [],
   "source": [
    "# Generate SBM\n",
    "n1 = 100; n2 = 50\n",
    "p = 0.8;  q = 0.2\n",
    "A = zeros(n1 + n2, n1 + n2)\n",
    "for i = 1:n1, j = (i+1):n1  # block 1\n",
    "    if rand() <= p; A[i, j] = 1; end\n",
    "end\n",
    "for i = 1:n2, j = (i+1):n2 # block 2\n",
    "    if rand() <= p; A[i + n1, j + n1] = 1; end\n",
    "end\n",
    "for i = 1:n1, j = 1:n2\n",
    "    if rand() <= q; A[i, j + n1] = 1; end\n",
    "end\n",
    "A = max.(A, A')\n",
    "spy(sparse(A), legend=nothing, m=:heat)"
   ]
  },
  {
   "cell_type": "code",
   "execution_count": null,
   "metadata": {},
   "outputs": [],
   "source": [
    "d = vec(sum(A, dims=1))\n",
    "L = Diagonal(d) - A\n",
    "v2 = eigen(L).vectors[:, 2]\n",
    "plot(v2, label=\"\", xlabel=\"node index\",\n",
    "     ylabel=\"Value in second eigenvector\",\n",
    "     title=\"Fiedler vector\")"
   ]
  },
  {
   "cell_type": "code",
   "execution_count": null,
   "metadata": {},
   "outputs": [],
   "source": []
  }
 ],
 "metadata": {
  "kernelspec": {
   "display_name": "Julia 1.1.0",
   "language": "julia",
   "name": "julia-1.1"
  },
  "language_info": {
   "file_extension": ".jl",
   "mimetype": "application/julia",
   "name": "julia",
   "version": "1.1.0"
  }
 },
 "nbformat": 4,
 "nbformat_minor": 2
}
