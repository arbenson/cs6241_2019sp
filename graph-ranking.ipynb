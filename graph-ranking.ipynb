{
 "cells": [
  {
   "cell_type": "code",
   "execution_count": 9,
   "metadata": {},
   "outputs": [],
   "source": [
    "using CSV\n",
    "using DataFrames\n",
    "using LinearAlgebra\n",
    "using SparseArrays\n",
    "using Random\n",
    "Random.seed!(1234);  # determinism"
   ]
  },
  {
   "cell_type": "code",
   "execution_count": 10,
   "metadata": {},
   "outputs": [],
   "source": [
    "# Read network data\n",
    "I, J = Vector{Int64}(), Vector{Int64}()\n",
    "open(\"Florida-bay.txt\") do f\n",
    "    for line in eachline(f)\n",
    "        i, j = [parse(Int64, v) for v in split(line)]\n",
    "        if i != j\n",
    "            push!(I, i + 1); push!(J, j + 1);  # 1-index\n",
    "        end\n",
    "    end\n",
    "end\n",
    "n = max(maximum(I), maximum(J)) # number of nodes\n",
    "A = sparse(I, J, 1, n, n)       # adjacency matrix (transpose)\n",
    "\n",
    "# Read names\n",
    "df = CSV.File(\"Florida-bay-meta.csv\") |> DataFrame\n",
    "names = df[:, :name];"
   ]
  },
  {
   "cell_type": "code",
   "execution_count": 11,
   "metadata": {},
   "outputs": [],
   "source": [
    "# normalize columns to form column sub-stochastic matrix P\n",
    "At = A'\n",
    "P = zeros(n, n)\n",
    "for j = 1:n\n",
    "    if sum(At[:, j]) > 0\n",
    "        P[:, j] = At[:, j] / sum(At[:, j])\n",
    "    end\n",
    "end\n",
    "v = ones(Float64, n) / n  # uniform teleportation\n",
    "α = 0.85;"
   ]
  },
  {
   "cell_type": "code",
   "execution_count": 14,
   "metadata": {},
   "outputs": [
    {
     "data": {
      "text/plain": [
       "10-element Array{Union{Missing, String},1}:\n",
       " \"Respiration\"              \n",
       " \"Water POC\"                \n",
       " \"Raptors\"                  \n",
       " \"Output\"                   \n",
       " \"Crocodiles\"               \n",
       " \"Benthic POC\"              \n",
       " \"Suspension Feeding Polych\"\n",
       " \"Dolphin\"                  \n",
       " \"Acartia Tonsa\"            \n",
       " \"Oithona nana\"             "
      ]
     },
     "execution_count": 14,
     "metadata": {},
     "output_type": "execute_result"
    }
   ],
   "source": [
    "# Basic PageRank iteration\n",
    "xk = copy(v)\n",
    "for k = 1:200\n",
    "    xk = α * P * xk + (1 - α) * v\n",
    "    xk = xk / sum(xk)\n",
    "end\n",
    "xk\n",
    "\n",
    "sp = sortperm(xk, rev=true)\n",
    "names[sp[1:10]]"
   ]
  },
  {
   "cell_type": "code",
   "execution_count": null,
   "metadata": {},
   "outputs": [],
   "source": []
  }
 ],
 "metadata": {
  "kernelspec": {
   "display_name": "Julia 1.1.0",
   "language": "julia",
   "name": "julia-1.1"
  },
  "language_info": {
   "file_extension": ".jl",
   "mimetype": "application/julia",
   "name": "julia",
   "version": "1.1.0"
  }
 },
 "nbformat": 4,
 "nbformat_minor": 2
}
