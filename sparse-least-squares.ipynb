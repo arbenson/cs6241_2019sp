{
 "cells": [
  {
   "cell_type": "code",
   "execution_count": 2,
   "metadata": {},
   "outputs": [],
   "source": [
    "using SparseArrays\n",
    "using Krylov\n",
    "using LinearAlgebra\n",
    "using Random\n",
    "using Plots\n",
    "Random.seed!(1234);  # determinism"
   ]
  },
  {
   "cell_type": "code",
   "execution_count": 3,
   "metadata": {},
   "outputs": [
    {
     "name": "stdout",
     "output_type": "stream",
     "text": [
      "Backslash operator...\n",
      "  1.025388 seconds (3.17 k allocations: 489.203 MiB, 25.17% gc time)\n",
      "QR...\n",
      "  1.347981 seconds (22 allocations: 328.630 MiB, 10.22% gc time)\n",
      "LSQR (tol=1.0e-6)...\n",
      "  0.049479 seconds (1.48 k allocations: 2.339 MiB)\n",
      "LSMR (tol=1.0e-6)...\n",
      "  0.043428 seconds (1.80 k allocations: 2.785 MiB)\n"
     ]
    }
   ],
   "source": [
    "function ls_solve_qr(A::SparseMatrixCSC{Float64,Int64}, \n",
    "                     b::Vector{Float64})\n",
    "    F = qr(Matrix(A))\n",
    "    Q = Matrix(F.Q)\n",
    "    R = Matrix(F.R)\n",
    "    return R \\ (Matrix(Q)' * b)\n",
    "end\n",
    "ls_solve_backslash(A::SparseMatrixCSC{Float64,Int64}, \n",
    "                   b::Vector{Float64}) = \n",
    "    A \\ b\n",
    "ls_solve_lsqr(A::SparseMatrixCSC{Float64,Int64}, \n",
    "              b::Vector{Float64}, ϵ::Float64) =\n",
    "    lsqr(A, b, etol=ϵ)[1]\n",
    "ls_solve_lsmr(A::SparseMatrixCSC{Float64,Int64}, \n",
    "              b::Vector{Float64}, ϵ::Float64) =\n",
    "    lsmr(A, b, etol=ϵ)[1]\n",
    "\n",
    "function time_algs(m::Int64, n::Int64; dryrun=false)\n",
    "    sparsity = 0.1;\n",
    "    A = sprand(m, n, sparsity);\n",
    "    b = A * randn(n) + rand(m) * 1e-2;\n",
    "    \n",
    "    if dryrun\n",
    "        ls_solve_backslash(A, b);  ls_solve_qr(A, b)\n",
    "        ls_solve_lsqr(A, b, 1e-3); ls_solve_lsmr(A, b, 1e-3)\n",
    "        return\n",
    "    end\n",
    "    \n",
    "    println(\"Backslash operator...\")\n",
    "    @time ls_solve_backslash(A, b)\n",
    "    println(\"QR...\")\n",
    "    @time ls_solve_qr(A, b)\n",
    "\n",
    "    tol = 1e-6\n",
    "    println(\"LSQR (tol=$tol)...\")\n",
    "    @time ls_solve_lsqr(A, b, tol)\n",
    "    println(\"LSMR (tol=$tol)...\")\n",
    "    @time ls_solve_lsmr(A, b, tol)        \n",
    "end\n",
    "\n",
    "# warm up to compile\n",
    "time_algs(1000, 100, dryrun=true)\n",
    "\n",
    "# timing\n",
    "time_algs(10000, 1000);"
   ]
  },
  {
   "cell_type": "code",
   "execution_count": 4,
   "metadata": {},
   "outputs": [
    {
     "name": "stdout",
     "output_type": "stream",
     "text": [
      "Backslash operator...\n",
      " 14.449101 seconds (6.17 k allocations: 4.733 GiB, 2.40% gc time)\n",
      "QR...\n",
      " 24.807017 seconds (22 allocations: 3.071 GiB, 1.16% gc time)\n",
      "LSQR (tol=1.0e-6)...\n",
      "  0.575386 seconds (1.26 k allocations: 8.346 MiB)\n",
      "LSMR (tol=1.0e-6)...\n",
      "  0.539024 seconds (1.43 k allocations: 8.596 MiB)\n"
     ]
    }
   ],
   "source": [
    "time_algs(50000, 2000);"
   ]
  },
  {
   "cell_type": "code",
   "execution_count": 5,
   "metadata": {},
   "outputs": [
    {
     "name": "stdout",
     "output_type": "stream",
     "text": [
      "Backslash operator...\n",
      "187.946206 seconds (9.18 k allocations: 28.294 GiB, 0.50% gc time)\n",
      "QR...\n"
     ]
    },
    {
     "ename": "InterruptException",
     "evalue": "InterruptException:",
     "output_type": "error",
     "traceback": [
      "InterruptException:",
      "",
      "Stacktrace:",
      " [1] Type at /Users/osx/buildbot/slave/package_osx64/build/usr/share/julia/stdlib/v1.1/LinearAlgebra/src/qr.jl:110 [inlined]",
      " [2] Type at /Users/osx/buildbot/slave/package_osx64/build/usr/share/julia/stdlib/v1.1/LinearAlgebra/src/qr.jl:113 [inlined]",
      " [3] qr!(::Array{Float64,2}, ::Val{false}) at /Users/osx/buildbot/slave/package_osx64/build/usr/share/julia/stdlib/v1.1/LinearAlgebra/src/qr.jl:242",
      " [4] qr! at /Users/osx/buildbot/slave/package_osx64/build/usr/share/julia/stdlib/v1.1/LinearAlgebra/src/qr.jl:244 [inlined]",
      " [5] qr(::Array{Float64,2}) at /Users/osx/buildbot/slave/package_osx64/build/usr/share/julia/stdlib/v1.1/LinearAlgebra/src/qr.jl:372",
      " [6] ls_solve_qr(::SparseMatrixCSC{Float64,Int64}, ::Array{Float64,1}) at ./In[3]:3",
      " [7] #time_algs#3(::Bool, ::Function, ::Int64, ::Int64) at ./util.jl:156",
      " [8] time_algs(::Int64, ::Int64) at ./In[3]:19",
      " [9] top-level scope at In[5]:1"
     ]
    }
   ],
   "source": [
    "time_algs(200000, 3000);"
   ]
  },
  {
   "cell_type": "code",
   "execution_count": 6,
   "metadata": {},
   "outputs": [
    {
     "data": {
      "text/plain": [
       "([0.427297, -0.0493791, -0.603194, 0.280008, 0.0364618, 0.615627, -0.0662535, -0.28821, 0.468509, 0.696123  …  0.0277487, -1.86188, 2.03978, 0.982666, -0.354289, -0.65256, -0.753964, 1.63472, -0.602206, -0.686395], \n",
       "Simple stats\n",
       "  solved: true\n",
       "  inconsistent: true\n",
       "  residuals:  [  6.6e+01  6.1e+01  1.9e+01 ...  9.2e-03  9.2e-03  9.2e-03 ]\n",
       "  Aresiduals: [  6.7e+02  4.6e+02  1.3e+02 ...  9.8e-08  6.8e-08  2.0e-08 ]\n",
       "  status: truncated forward error small enough\n",
       ")"
      ]
     },
     "execution_count": 6,
     "metadata": {},
     "output_type": "execute_result"
    }
   ],
   "source": [
    "m, n = 1000, 100\n",
    "A = sprand(m, n, 0.2);\n",
    "b = A * randn(n) + rand(m) * 1e-3;\n",
    "\n",
    "lsqr_sol = lsqr(A, b, etol=1e-8)\n",
    "lsmr_sol = lsmr(A, b, etol=1e-8)"
   ]
  },
  {
   "cell_type": "code",
   "execution_count": null,
   "metadata": {},
   "outputs": [],
   "source": [
    "plot( lsqr_sol[2].residuals,  lw=3, label=\"LSQR residual\")\n",
    "plot!(lsqr_sol[2].Aresiduals, lw=1, label=\"LSQR inv(A) residual\")\n",
    "plot!(lsmr_sol[2].residuals,  lw=3, ls=:dash, label=\"LSMR residual\")\n",
    "plot!(lsmr_sol[2].Aresiduals, lw=1, ls=:dash, label=\"LSMR inv(A) residual\", yscale=:log10)"
   ]
  }
 ],
 "metadata": {
  "kernelspec": {
   "display_name": "Julia 1.1.0",
   "language": "julia",
   "name": "julia-1.1"
  },
  "language_info": {
   "file_extension": ".jl",
   "mimetype": "application/julia",
   "name": "julia",
   "version": "1.1.0"
  }
 },
 "nbformat": 4,
 "nbformat_minor": 2
}
